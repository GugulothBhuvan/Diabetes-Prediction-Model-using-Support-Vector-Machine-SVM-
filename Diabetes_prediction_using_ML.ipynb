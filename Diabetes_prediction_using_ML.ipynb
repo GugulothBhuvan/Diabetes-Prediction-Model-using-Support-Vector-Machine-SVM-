{
  "nbformat": 4,
  "nbformat_minor": 0,
  "metadata": {
    "colab": {
      "private_outputs": true,
      "provenance": []
    },
    "kernelspec": {
      "name": "python3",
      "display_name": "Python 3"
    },
    "language_info": {
      "name": "python"
    }
  },
  "cells": [
    {
      "cell_type": "markdown",
      "source": [
        "Importing the Dependencies"
      ],
      "metadata": {
        "id": "3f8EABpjemA0"
      }
    },
    {
      "cell_type": "code",
      "execution_count": null,
      "metadata": {
        "id": "XtxD118xd0bb"
      },
      "outputs": [],
      "source": [
        "import numpy as np #numpy library is used to create numpy arrays\n",
        "import pandas as pd #pandas library is used for data frame\n",
        "from sklearn.preprocessing import StandardScaler #standardscaler is used for standardizing the data\n",
        "from sklearn.model_selection import train_test_split #train_test_split is used for data preprocessing that is spliting the data in test and training data\n",
        "from sklearn import svm #svm is support vector machine\n",
        "from sklearn.metrics import accuracy_score"
      ]
    },
    {
      "cell_type": "markdown",
      "source": [
        "#Data collection and Analysis\n",
        "PIMA Diabetes Dataset\n",
        "the data provided is from UCI machine learning from Kaggle"
      ],
      "metadata": {
        "id": "jwAPBiU_fxbw"
      }
    },
    {
      "cell_type": "code",
      "source": [
        "#loading the diabetes dataset to a pandas dataframe\n",
        "diabetes_dataset = pd.read_csv('/content/diabetes.csv')"
      ],
      "metadata": {
        "id": "P4MQoxLSezXq"
      },
      "execution_count": null,
      "outputs": []
    },
    {
      "cell_type": "code",
      "source": [
        "# printing the first 5 rows of the dataset\n",
        "diabetes_dataset.head()"
      ],
      "metadata": {
        "id": "FdP4Er6jgWWj"
      },
      "execution_count": null,
      "outputs": []
    },
    {
      "cell_type": "code",
      "source": [
        "# calculating the number of rows and columns in the dataset\n",
        "diabetes_dataset.shape"
      ],
      "metadata": {
        "id": "ZhzAhrxqg-8f"
      },
      "execution_count": null,
      "outputs": []
    },
    {
      "cell_type": "code",
      "source": [
        "# calculating the statistical measures of the data\n",
        "diabetes_dataset.describe()"
      ],
      "metadata": {
        "id": "V94_sscEhtIw"
      },
      "execution_count": null,
      "outputs": []
    },
    {
      "cell_type": "code",
      "source": [
        "diabetes_dataset['Outcome'].value_counts()"
      ],
      "metadata": {
        "id": "JNQgxhTOjZxV"
      },
      "execution_count": null,
      "outputs": []
    },
    {
      "cell_type": "markdown",
      "source": [
        "the Label \"0\" represents Non-Diabetic\n",
        "the label \"1\" represents diabetic"
      ],
      "metadata": {
        "id": "6Ui-lCYR2qYh"
      }
    },
    {
      "cell_type": "code",
      "source": [
        "diabetes_dataset.groupby('Outcome').mean()"
      ],
      "metadata": {
        "id": "5ef7to2e2Rzg"
      },
      "execution_count": null,
      "outputs": []
    },
    {
      "cell_type": "code",
      "source": [
        "# seperating data and labels\n",
        "x = diabetes_dataset.drop(columns = 'Outcome', axis = 1)\n",
        "y = diabetes_dataset['Outcome']"
      ],
      "metadata": {
        "id": "e74v3pzc2_Bw"
      },
      "execution_count": null,
      "outputs": []
    },
    {
      "cell_type": "code",
      "source": [
        "print(x)"
      ],
      "metadata": {
        "id": "aWsrtiHFpBaV"
      },
      "execution_count": null,
      "outputs": []
    },
    {
      "cell_type": "code",
      "source": [
        "print(y)"
      ],
      "metadata": {
        "id": "Lf6fjAmQpHJ3"
      },
      "execution_count": null,
      "outputs": []
    },
    {
      "cell_type": "markdown",
      "source": [
        "Data Standardization"
      ],
      "metadata": {
        "id": "6gF1v9WSpP3m"
      }
    },
    {
      "cell_type": "code",
      "source": [
        "scalar = StandardScaler()"
      ],
      "metadata": {
        "id": "m2WtlvJGpLl5"
      },
      "execution_count": null,
      "outputs": []
    },
    {
      "cell_type": "code",
      "source": [
        "scalar.fit(x)"
      ],
      "metadata": {
        "id": "7InW0hXopc5x"
      },
      "execution_count": null,
      "outputs": []
    },
    {
      "cell_type": "code",
      "source": [
        "standardized_data = scalar.transform(x)"
      ],
      "metadata": {
        "id": "pWqs_RHYph_W"
      },
      "execution_count": null,
      "outputs": []
    },
    {
      "cell_type": "code",
      "source": [
        "print(standardized_data)"
      ],
      "metadata": {
        "id": "eQWKfQaMpp_M"
      },
      "execution_count": null,
      "outputs": []
    },
    {
      "cell_type": "code",
      "source": [
        "x = standardized_data\n",
        "y = diabetes_dataset['Outcome']"
      ],
      "metadata": {
        "id": "PlSWs51sp7DL"
      },
      "execution_count": null,
      "outputs": []
    },
    {
      "cell_type": "code",
      "source": [
        "print(x)\n",
        "print(y)"
      ],
      "metadata": {
        "id": "vtAjmHuwqFaq"
      },
      "execution_count": null,
      "outputs": []
    },
    {
      "cell_type": "markdown",
      "source": [
        "Train Test Split"
      ],
      "metadata": {
        "id": "xnKrbwR_qQT4"
      }
    },
    {
      "cell_type": "code",
      "source": [
        "x_train,x_test,y_train,y_test = train_test_split(x ,y, test_size = 0.2, stratify = y, random_state =2)"
      ],
      "metadata": {
        "id": "8bFhd5ceqMqu"
      },
      "execution_count": null,
      "outputs": []
    },
    {
      "cell_type": "code",
      "source": [
        "print(x.shape, x_train.shape,x_test.shape)"
      ],
      "metadata": {
        "id": "NgEHnI-cqLiV"
      },
      "execution_count": null,
      "outputs": []
    },
    {
      "cell_type": "markdown",
      "source": [
        "Training the Model"
      ],
      "metadata": {
        "id": "P6Qhjioxq9qQ"
      }
    },
    {
      "cell_type": "code",
      "source": [
        "classifier = svm.SVC(kernel='linear')"
      ],
      "metadata": {
        "id": "yII6C8yOqqg7"
      },
      "execution_count": null,
      "outputs": []
    },
    {
      "cell_type": "code",
      "source": [
        "# training the support vector machine classifier\n",
        "classifier.fit(x_train, y_train)"
      ],
      "metadata": {
        "id": "z8iaV6WtrJB9"
      },
      "execution_count": null,
      "outputs": []
    },
    {
      "cell_type": "markdown",
      "source": [
        "**Evaluation of the model**"
      ],
      "metadata": {
        "id": "kHgVcEVvrdQ1"
      }
    },
    {
      "cell_type": "code",
      "source": [
        "# Accuracy score on training data\n",
        "x_train_prediction = classifier.predict(x_train)\n",
        "training_data_accuracy = accuracy_score(x_train_prediction,y_train)\n",
        "print('Accuracy score of the training data :', training_data_accuracy)"
      ],
      "metadata": {
        "id": "bPjS5hvIrYQN"
      },
      "execution_count": null,
      "outputs": []
    },
    {
      "cell_type": "code",
      "source": [
        "# Accuracy score on test data\n",
        "x_test_prediction = classifier.predict(x_test)\n",
        "test_data_accuracy = accuracy_score(x_test_prediction,y_test)\n",
        "print('Accuracy score of the test data :', test_data_accuracy)"
      ],
      "metadata": {
        "id": "BgzVcxmkr0cU"
      },
      "execution_count": null,
      "outputs": []
    },
    {
      "cell_type": "markdown",
      "source": [
        "#making the prediction system"
      ],
      "metadata": {
        "id": "V8v5zvG-s5e4"
      }
    },
    {
      "cell_type": "code",
      "source": [
        "input_data = (4,110,92,0,0,37.6,0.191,30)\n",
        "\n",
        "#chaning the input data into numpy array\n",
        "input_data_as_numpy_array = np.asarray(input_data)\n",
        "\n",
        "#reshape the array as we are predicting for one instance\n",
        "input_data_reshaped = input_data_as_numpy_array.reshape(1,-1)\n",
        "\n",
        "#standardize the input data\n",
        "std_data = scalar.transform(input_data_reshaped)\n",
        "print(std_data)\n",
        "\n",
        "prediction = classifier.predict(std_data)\n",
        "print(prediction)\n",
        "if(prediction[0] == 0 ):\n",
        "  print('The person is not diabetic')\n",
        "else:\n",
        "  print('The person is diabetic')"
      ],
      "metadata": {
        "id": "0EWoOmkqsz7m"
      },
      "execution_count": null,
      "outputs": []
    },
    {
      "cell_type": "code",
      "source": [],
      "metadata": {
        "id": "pji3Byx2uL1I"
      },
      "execution_count": null,
      "outputs": []
    }
  ]
}